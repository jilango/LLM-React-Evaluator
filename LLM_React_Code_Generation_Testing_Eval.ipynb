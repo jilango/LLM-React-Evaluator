{
  "nbformat": 4,
  "nbformat_minor": 0,
  "metadata": {
    "colab": {
      "provenance": []
    },
    "kernelspec": {
      "name": "python3",
      "display_name": "Python 3"
    },
    "language_info": {
      "name": "python"
    }
  },
  "cells": [
    {
      "cell_type": "code",
      "source": [
        "import openai\n",
        "import matplotlib.pyplot as plt\n",
        "import nltk\n",
        "from nltk.translate.bleu_score import sentence_bleu"
      ],
      "metadata": {
        "id": "XM3d9g9O3vTi"
      },
      "execution_count": null,
      "outputs": []
    },
    {
      "cell_type": "code",
      "source": [
        "nltk.download('punkt')"
      ],
      "metadata": {
        "id": "el4lw4_-4GS_"
      },
      "execution_count": null,
      "outputs": []
    },
    {
      "cell_type": "code",
      "source": [
        "openai.api_key = \"####\""
      ],
      "metadata": {
        "id": "ZX5fGisa4HBx"
      },
      "execution_count": null,
      "outputs": []
    },
    {
      "cell_type": "markdown",
      "source": [
        "# Pre-Defined Testing Prompts for React Code Generation:\n"
      ],
      "metadata": {
        "id": "p0zEwF_f4N0G"
      }
    },
    {
      "cell_type": "code",
      "source": [
        "prompts = {\n",
        "    \"Prompt 1\": \"Write a minimal React functional component based on the following description:\",\n",
        "    \"Prompt 2\": \"Generate a JSX code snippet for the given UI description:\",\n",
        "    \"Prompt 3\": \"Create a simple React component that matches the description below:\",\n",
        "    \"Prompt 4\": \"Provide clean and minimal React (JSX) code for:\",\n",
        "    \"Prompt 5\": \"Write a concise React component using hooks if needed for the following UI:\",\n",
        "    \"Prompt 6\": \"Develop a simple React UI element as per the following description:\",\n",
        "    \"Prompt 7\": \"Create a TypeScript React component for the given description:\",\n",
        "    \"Prompt 8\": \"Write a JSX code snippet optimized for readability based on this UI description:\",\n",
        "    \"Prompt 9\": \"Given the following description, build a functional React component:\",\n",
        "    \"Prompt 10\": \"Generate a basic React structure in JSX to match the following UI description:\",\n",
        "}"
      ],
      "metadata": {
        "id": "kVmOvnAk4LVf"
      },
      "execution_count": null,
      "outputs": []
    },
    {
      "cell_type": "markdown",
      "source": [
        "#Sample Descriptions and Target Codes (Dashboard Components):"
      ],
      "metadata": {
        "id": "Cw9f88eP4UBi"
      }
    },
    {
      "cell_type": "code",
      "source": [
        "descriptions = [\n",
        "    \"A line chart displaying sales data with tooltips.\",\n",
        "    \"A dashboard card showing a user's total earnings.\",\n",
        "    \"A bar chart comparing monthly active users.\",\n",
        "    \"A pie chart showing market share distribution.\",\n",
        "    \"A KPI widget displaying the number of new customers this month.\",\n",
        "]"
      ],
      "metadata": {
        "id": "oGYqVxvE4ZTY"
      },
      "execution_count": null,
      "outputs": []
    },
    {
      "cell_type": "code",
      "source": [
        "target_codes = [\n",
        "    \"<LineChart data={data}><Line type='monotone' dataKey='sales' /><Tooltip /></LineChart>\",\n",
        "    \"<div className='card'><h2>Total Earnings</h2><p>$25,000</p></div>\",\n",
        "    \"<BarChart data={data}><Bar dataKey='users' fill='#8884d8' /></BarChart>\",\n",
        "    \"<PieChart><Pie data={data} dataKey='value' nameKey='name' cx='50%' cy='50%' outerRadius={80} fill='#82ca9d' label /></PieChart>\",\n",
        "    \"<div className='kpi-widget'><h3>New Customers</h3><p>120</p></div>\",\n",
        "]"
      ],
      "metadata": {
        "id": "pKB9yF0F4Z5V"
      },
      "execution_count": null,
      "outputs": []
    },
    {
      "cell_type": "markdown",
      "source": [
        "#Sending Prompt to LLM:"
      ],
      "metadata": {
        "id": "IXQH_hnK47ae"
      }
    },
    {
      "cell_type": "code",
      "source": [
        "def query_openai(prompt_text, input_text):\n",
        "    response = openai.ChatCompletion.create(\n",
        "        model=\"gpt-4o\",\n",
        "        messages=[\n",
        "            {\"role\": \"system\", \"content\": \"You are a helpful assistant.\"},\n",
        "            {\"role\": \"user\", \"content\": f\"{prompt_text}\\n{input_text}\"},\n",
        "        ],\n",
        "        temperature=0.2,\n",
        "        max_tokens=300\n",
        "    )\n",
        "    return response['choices'][0]['message']['content'].strip()"
      ],
      "metadata": {
        "id": "pXOqdSQN4bTt"
      },
      "execution_count": null,
      "outputs": []
    },
    {
      "cell_type": "markdown",
      "source": [
        "#BLEU Score Calculation:"
      ],
      "metadata": {
        "id": "fKiYBY4K4pX7"
      }
    },
    {
      "cell_type": "code",
      "source": [
        "results = {}\n",
        "bleu_scores = {prompt_name: [] for prompt_name in prompts.keys()}\n",
        "\n",
        "total_steps = len(prompts) * len(descriptions)\n",
        "current_step = 0\n",
        "\n",
        "for prompt_name, prompt_template in prompts.items():\n",
        "    generated_codes = []\n",
        "    for description in descriptions:\n",
        "        code = query_openai(prompt_template, description)\n",
        "        generated_codes.append(code)\n",
        "        current_step += 1\n",
        "    results[prompt_name] = generated_codes"
      ],
      "metadata": {
        "id": "jKLgHfzn4dEw"
      },
      "execution_count": null,
      "outputs": []
    },
    {
      "cell_type": "code",
      "source": [
        "for prompt_name, codes in results.items():\n",
        "    for generated, target_code in zip(codes, target_codes):\n",
        "        reference = target_code.split()\n",
        "        candidate = generated.split()\n",
        "        bleu = sentence_bleu([reference], candidate)\n",
        "        bleu_scores[prompt_name].append(bleu)\n",
        "\n",
        "average_bleu = {k: sum(v)/len(v) for k, v in bleu_scores.items()}"
      ],
      "metadata": {
        "id": "Gq7VPsbU4ezj"
      },
      "execution_count": null,
      "outputs": []
    },
    {
      "cell_type": "code",
      "source": [
        "plt.figure(figsize=(10, 6))\n",
        "plt.bar(average_bleu.keys(), average_bleu.values())\n",
        "plt.ylabel(\"Average BLEU Score\")\n",
        "plt.title(\"Prompt Template vs. BLEU Score for React Code Generation\")\n",
        "plt.xticks(rotation=45, ha='right')\n",
        "plt.ylim(0, 1)\n",
        "plt.tight_layout()\n",
        "plt.show()"
      ],
      "metadata": {
        "id": "2uQCF5JA4g5c"
      },
      "execution_count": null,
      "outputs": []
    },
    {
      "cell_type": "code",
      "source": [
        "for prompt_name, scores in bleu_scores.items():\n",
        "    print(f\"\\n{prompt_name}\")\n",
        "    for idx, score in enumerate(scores):\n",
        "        print(f\"Component {idx+1}: BLEU Score = {score:.2f}\")"
      ],
      "metadata": {
        "id": "VemAKCT84iTP"
      },
      "execution_count": null,
      "outputs": []
    },
    {
      "cell_type": "code",
      "source": [
        "best_prompt = max(average_bleu, key=average_bleu.get)\n",
        "print(f\"\\n🏆 Best Performing Prompt: {best_prompt} with Avg BLEU = {average_bleu[best_prompt]:.2f}\")"
      ],
      "metadata": {
        "id": "8YOS_hgM4jzR"
      },
      "execution_count": null,
      "outputs": []
    }
  ]
}
